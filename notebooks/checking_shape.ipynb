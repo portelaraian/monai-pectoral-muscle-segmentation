{
 "cells": [
  {
   "cell_type": "code",
   "execution_count": 4,
   "metadata": {},
   "outputs": [],
   "source": [
    "import nibabel as nib\n",
    "import numpy as np\n",
    "from glob import glob\n",
    "import shutil"
   ]
  },
  {
   "cell_type": "code",
   "execution_count": 8,
   "metadata": {},
   "outputs": [
    {
     "name": "stdout",
     "output_type": "stream",
     "text": [
      "Total MRIs: 102\n",
      "Total masks: 101\n"
     ]
    }
   ],
   "source": [
    "images = sorted(glob(\"../input/train/v3/mri/*.gz\"))\n",
    "labels = sorted(glob(\"../input/train/v3/masks/*.nii\"))\n",
    "\n",
    "print(\"Total MRIs: {}\".format(len(images)))\n",
    "print(\"Total masks: {}\".format(len(labels)))"
   ]
  },
  {
   "cell_type": "code",
   "execution_count": 12,
   "metadata": {},
   "outputs": [],
   "source": [
    "for mri, mask in zip(images, labels):\n",
    "    if mri.split(\"/\")[-1].split(\".\")[0] != mask.split(\"/\")[-1].split(\".\")[0]:\n",
    "        print(mri, mask)\n",
    "\n",
    "mris, masks = [], []\n",
    "\n",
    "for mri, mask in zip(images, labels):\n",
    "    mris.append(mri.split(\"/\")[-1].split(\".\")[0])\n",
    "    masks.append(mask.split(\"/\")[-1].split(\".\")[0])\n",
    "    \n",
    "print(len(mris))\n",
    "print(len(masks))\n",
    "\n",
    "mri_not_in_mask = [mri for mri in mris if mri not in masks]\n",
    "mask_not_in_mri = [mask for mask in masks if mask not in mris]\n",
    "\n",
    "print(len(mri_not_in_mask), len(mask_not_in_mri))\n",
    "\n",
    "idx = 0\n",
    "for mri, mask in zip(mris, masks):\n",
    "    if mri == mask:\n",
    "        \n",
    "        mask_old = f\"../input/train/v3/masks/{mask}.nii\"\n",
    "        mask_new = f\"../input/train/v3/new/masks/{idx}_{mask}.nii\"\n",
    "\n",
    "        mri_old  = f\"../input/train/v3/mri/{mri}.nii.gz\"\n",
    "        mri_new  = f\"../input/train/v3/new/mri/{idx}_{mri}.nii.gz\"\n",
    "        \n",
    "        shutil.move(mask_old, mask_new)\n",
    "        shutil.move(mri_old,  mri_new)\n",
    "        \n",
    "        idx += 1\n",
    "    else:\n",
    "        print(\"Error on file: \".format(mri))"
   ]
  },
  {
   "cell_type": "code",
   "execution_count": 23,
   "metadata": {},
   "outputs": [],
   "source": [
    "from monai.transforms import (\n",
    "    AddChanneld,\n",
    "    LoadImage,\n",
    "    LoadImaged,\n",
    "    Orientationd,\n",
    "    Rand3DElasticd,\n",
    "    RandAffined,\n",
    "    Spacingd,\n",
    ")\n"
   ]
  },
  {
   "cell_type": "code",
   "execution_count": 24,
   "metadata": {},
   "outputs": [],
   "source": [
    "loader = LoadImage(dtype=np.float32)"
   ]
  },
  {
   "cell_type": "code",
   "execution_count": 27,
   "metadata": {},
   "outputs": [
    {
     "name": "stdout",
     "output_type": "stream",
     "text": [
      "input: ../input/train/v3/mri/0_20120626155116_3.nii.gz\n",
      "image shape: (512, 512, 29)\n",
      "image affine:\n",
      "[[-5.82221925e-01  6.54081181e-02  5.77459261e-02  1.98172562e+02]\n",
      " [ 6.54087290e-02  5.82237542e-01 -6.48713298e-03 -1.70069733e+02]\n",
      " [ 4.25565708e-03  0.00000000e+00  8.00000095e+00 -9.84200287e+01]\n",
      " [ 0.00000000e+00  0.00000000e+00  0.00000000e+00  1.00000000e+00]]\n",
      "\n",
      "image pixdim:\n",
      "[-1.        0.5859    0.5859    8.000213  0.666664  0.        0.\n",
      "  0.      ]\n"
     ]
    }
   ],
   "source": [
    "image, metadata = loader(images[0])\n",
    "print(f\"input: {images[0]}\")\n",
    "print(f\"image shape: {image.shape}\")\n",
    "print(f\"image affine:\\n{metadata['affine']}\")\n",
    "print(\"\")\n",
    "print(f\"image pixdim:\\n{metadata['pixdim']}\")"
   ]
  },
  {
   "cell_type": "code",
   "execution_count": 29,
   "metadata": {},
   "outputs": [
    {
     "data": {
      "text/plain": [
       "array([-1.      ,  0.5859  ,  0.5859  ,  8.000213,  0.666664,  0.      ,\n",
       "        0.      ,  0.      ], dtype=float32)"
      ]
     },
     "execution_count": 29,
     "metadata": {},
     "output_type": "execute_result"
    }
   ],
   "source": [
    "metadata[\"pixdim\"]"
   ]
  },
  {
   "cell_type": "code",
   "execution_count": 22,
   "metadata": {},
   "outputs": [
    {
     "data": {
      "text/plain": [
       "(0.5859, 0.5859, 8.000213)"
      ]
     },
     "execution_count": 22,
     "metadata": {},
     "output_type": "execute_result"
    }
   ],
   "source": [
    "example.header.get_zooms()"
   ]
  },
  {
   "cell_type": "code",
   "execution_count": null,
   "metadata": {},
   "outputs": [],
   "source": []
  }
 ],
 "metadata": {
  "kernelspec": {
   "display_name": "Python 3",
   "language": "python",
   "name": "python3"
  },
  "language_info": {
   "codemirror_mode": {
    "name": "ipython",
    "version": 3
   },
   "file_extension": ".py",
   "mimetype": "text/x-python",
   "name": "python",
   "nbconvert_exporter": "python",
   "pygments_lexer": "ipython3",
   "version": "3.8.5"
  }
 },
 "nbformat": 4,
 "nbformat_minor": 4
}
